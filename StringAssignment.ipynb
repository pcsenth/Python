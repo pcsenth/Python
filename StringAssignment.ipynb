{
 "cells": [
  {
   "cell_type": "code",
   "execution_count": 2,
   "metadata": {},
   "outputs": [],
   "source": [
    "#Given a string name, e.g. \"Bob\", return a greeting of the form \"Hello Bob!\".\n",
    "def hello_name(name):\n",
    "  return \"Hello \" + name +\"!\";\n"
   ]
  },
  {
   "cell_type": "code",
   "execution_count": null,
   "metadata": {},
   "outputs": [],
   "source": [
    "#Given two strings, a and b, return the result of putting them together in the order abba, \n",
    "#e.g. \"Hi\" and \"Bye\" returns \"HiByeByeHi\".\n",
    "def make_abba(a, b):\n",
    "  return a+(b*2)+a"
   ]
  },
  {
   "cell_type": "code",
   "execution_count": null,
   "metadata": {},
   "outputs": [],
   "source": [
    "# Given tag and word strings, create the HTML string with tags around the word, e.g. \"<i>Yay</i>\".\n",
    "def make_tags(tag, word):\n",
    "  return \"<\"+tag+\">\"+word+\"</\"+tag+\">\"\n"
   ]
  },
  {
   "cell_type": "code",
   "execution_count": null,
   "metadata": {},
   "outputs": [],
   "source": [
    "#make_out_word('<<>>', 'Yay') → '<<Yay>>'\n",
    "def make_out_word(out, word):\n",
    "  return out[0:2]+word+out[2:]\n"
   ]
  },
  {
   "cell_type": "code",
   "execution_count": null,
   "metadata": {},
   "outputs": [],
   "source": [
    "#extra_end('Hello') → 'lololo'\n",
    "def extra_end(str):\n",
    "  return str[len(str)-2:]*3\n"
   ]
  },
  {
   "cell_type": "code",
   "execution_count": null,
   "metadata": {},
   "outputs": [],
   "source": [
    "#Given a string, return the string made of its first two chars, so the String \"Hello\" yields \"He\".\n",
    "#If the string is shorter than length 2, return whatever there is, so \"X\" yields \"X\", \n",
    "#and the empty string \"\" yields the empty string \"\".\n",
    "def first_two(str):\n",
    "  if(str == \"\" or not str):\n",
    "    return \"\"\n",
    "  elif(len(str) <= 2):\n",
    "    return str\n",
    "  else:\n",
    "    return str[0:2]"
   ]
  },
  {
   "cell_type": "code",
   "execution_count": null,
   "metadata": {},
   "outputs": [],
   "source": [
    "#Given a string of even length, return the first half. So the string \"WooHoo\" yields \"Woo\".\n",
    "def first_half(str):\n",
    "  return str[0:len(str)/2]\n"
   ]
  },
  {
   "cell_type": "code",
   "execution_count": null,
   "metadata": {},
   "outputs": [],
   "source": [
    "#Given a string, return a version without the first and last char, so \"Hello\" yields \"ell\". The string length will be at least 2.\n",
    "def without_end(str):\n",
    "  return str[1:len(str)-1]\n"
   ]
  },
  {
   "cell_type": "code",
   "execution_count": null,
   "metadata": {},
   "outputs": [],
   "source": [
    "#Given 2 strings, a and b, return a string of the form short+long+short, \n",
    "#with the shorter string on the outside and the longer string on the inside\n",
    "def combo_string(a, b):\n",
    "  if(len(a) > len(b)):\n",
    "    return b+a+b;\n",
    "  else:\n",
    "    return a+b+a;\n"
   ]
  },
  {
   "cell_type": "code",
   "execution_count": null,
   "metadata": {},
   "outputs": [],
   "source": [
    "#Given 2 strings, return their concatenation, except omit the first char of each. The strings will be at least length 1.\n",
    "#non_start('Hello', 'There') → 'ellohere'\n",
    "def non_start(a, b):\n",
    "  return a[1:] + b[1:]\n"
   ]
  },
  {
   "cell_type": "code",
   "execution_count": null,
   "metadata": {},
   "outputs": [],
   "source": [
    "#Given a string, return a \"rotated left 2\" version where the first 2 chars are moved to the end. The string length will be at least 2.\n",
    "#left2('Hello') → 'lloHe'\n",
    "def left2(str):\n",
    "  return str[2:]+str[0:2]\n"
   ]
  }
 ],
 "metadata": {
  "kernelspec": {
   "display_name": "Python 3",
   "language": "python",
   "name": "python3"
  },
  "language_info": {
   "codemirror_mode": {
    "name": "ipython",
    "version": 3
   },
   "file_extension": ".py",
   "mimetype": "text/x-python",
   "name": "python",
   "nbconvert_exporter": "python",
   "pygments_lexer": "ipython3",
   "version": "3.7.0"
  }
 },
 "nbformat": 4,
 "nbformat_minor": 2
}
