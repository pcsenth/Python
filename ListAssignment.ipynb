{
 "cells": [
  {
   "cell_type": "code",
   "execution_count": null,
   "metadata": {},
   "outputs": [],
   "source": [
    "#Given an array of ints, return True if 6 appears as either the first or last element in the array.\n",
    "#The array will be length 1 or more.\n",
    "#first_last6([1, 2, 6]) → True\n",
    "def first_last6(nums):\n",
    "  if(nums[0] == 6 or nums[len(nums)-1] == 6):\n",
    "    return True;\n",
    "  else:\n",
    "    return False;\n"
   ]
  },
  {
   "cell_type": "code",
   "execution_count": null,
   "metadata": {},
   "outputs": [],
   "source": [
    "#Given an array of ints, return True if the array is length 1 or more, and the first element and the last element are equal.\n",
    "#same_first_last([1, 2, 3]) → False\n",
    "#same_first_last([1, 2, 3, 1]) → True\n",
    "def same_first_last(nums):\n",
    "  if(len(nums) >= 1 and nums[0] == nums[len(nums)-1]):\n",
    "    return True;\n",
    "  else:\n",
    "    return False;\n"
   ]
  },
  {
   "cell_type": "code",
   "execution_count": null,
   "metadata": {},
   "outputs": [],
   "source": [
    "#Return an int array length 3 containing the first 3 digits of pi, {3, 1, 4}.\n",
    "\n",
    "def make_pi():\n",
    "  num = [3,1,4]\n",
    "  return num;\n"
   ]
  },
  {
   "cell_type": "code",
   "execution_count": null,
   "metadata": {},
   "outputs": [],
   "source": [
    "#Given 2 arrays of ints, a and b, return True if they have the same first element or they have the same last element. \n",
    "#Both arrays will be length 1 or more.\n",
    "#common_end([1, 2, 3], [7, 3]) → True\n",
    "def common_end(a, b):\n",
    "  if(a[0] == b[0] or a[len(a)-1] == b[len(b)-1]):\n",
    "    return True;\n",
    "  else:\n",
    "    return False;\n"
   ]
  },
  {
   "cell_type": "code",
   "execution_count": null,
   "metadata": {},
   "outputs": [],
   "source": [
    "#Given an array of ints length 3, return the sum of all the elements.\n",
    "def sum3(nums):\n",
    "  return nums[0]+nums[1]+nums[2];\n"
   ]
  },
  {
   "cell_type": "code",
   "execution_count": null,
   "metadata": {},
   "outputs": [],
   "source": [
    "#Given an array of ints length 3, return an array with the elements \"rotated left\" so {1, 2, 3} yields {2, 3, 1}.\n",
    "#rotate_left3([1, 2, 3]) → [2, 3, 1]\n",
    "def rotate_left3(nums):\n",
    "  num = [nums[1],nums[2],nums[0]];\n",
    "  return num;\n"
   ]
  },
  {
   "cell_type": "code",
   "execution_count": null,
   "metadata": {},
   "outputs": [],
   "source": [
    "#Given an array of ints length 3, return a new array with the elements in reverse order, so {1, 2, 3} becomes {3, 2, 1}.\n",
    "def reverse3(nums):\n",
    "  return  [nums[2],nums[1],nums[0]];\n"
   ]
  },
  {
   "cell_type": "code",
   "execution_count": null,
   "metadata": {},
   "outputs": [],
   "source": [
    "#Given an array of ints length 3, figure out which is larger, the first or last element in the array,\n",
    "#and set all the other elements to be that value. Return the changed array.\n",
    "def max_end3(nums):\n",
    "  if(nums[0] > nums[2]):\n",
    "    return [nums[0],nums[0],nums[0]];\n",
    "  else:\n",
    "    return [nums[2],nums[2],nums[2]];\n",
    "  "
   ]
  },
  {
   "cell_type": "code",
   "execution_count": null,
   "metadata": {},
   "outputs": [],
   "source": [
    "#Given an array of ints, return the sum of the first 2 elements in the array. If the array length is less than 2,\n",
    "#just sum up the elements that exist, returning 0 if the array is length 0.\n",
    "def sum2(nums):\n",
    "  if(len(nums) == 0):\n",
    "    return 0;\n",
    "  elif(len(nums) < 2):\n",
    "    return nums[0];\n",
    "  else:\n",
    "    return nums[0]+nums[1];\n",
    "    "
   ]
  },
  {
   "cell_type": "code",
   "execution_count": null,
   "metadata": {},
   "outputs": [],
   "source": [
    "#Given 2 int arrays, a and b, each length 3, return a new array length 2 containing their middle elements.\n",
    "#middle_way([1, 2, 3], [4, 5, 6]) → [2, 5]\n",
    "def middle_way(a, b):\n",
    "  return [a[1],b[1]];\n"
   ]
  },
  {
   "cell_type": "code",
   "execution_count": null,
   "metadata": {},
   "outputs": [],
   "source": [
    "#Given an array of ints, return a new array length 2 containing the first and last elements from the original array.\n",
    "#The original array will be length 1 or more.\n",
    "def make_ends(nums):\n",
    "  return [nums[0],nums[len(nums)-1]];\n"
   ]
  },
  {
   "cell_type": "code",
   "execution_count": null,
   "metadata": {},
   "outputs": [],
   "source": [
    "#Given an int array length 2, return True if it contains a 2 or a 3.\n",
    "#has23([2, 5]) → True\n",
    "#has23([4, 3]) → True\n",
    "def has23(nums):\n",
    "  if(nums.count(2) > 0 or nums.count(3) >0):\n",
    "    return True;\n",
    "  else:\n",
    "    return False;\n"
   ]
  }
 ],
 "metadata": {
  "kernelspec": {
   "display_name": "Python 3",
   "language": "python",
   "name": "python3"
  },
  "language_info": {
   "codemirror_mode": {
    "name": "ipython",
    "version": 3
   },
   "file_extension": ".py",
   "mimetype": "text/x-python",
   "name": "python",
   "nbconvert_exporter": "python",
   "pygments_lexer": "ipython3",
   "version": "3.7.0"
  }
 },
 "nbformat": 4,
 "nbformat_minor": 2
}
