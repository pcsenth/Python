{
 "cells": [
  {
   "cell_type": "code",
   "execution_count": null,
   "metadata": {},
   "outputs": [],
   "source": [
    "#When squirrels get together for a party, they like to have cigars. \n",
    "#A squirrel party is successful when the number of cigars is between 40 and 60, inclusive. \n",
    "#Unless it is the weekend, in which case there is no upper bound on the number of cigars\n",
    "def cigar_party(cigars, is_weekend):\n",
    "  if( (cigars >= 40 and cigars <= 60 ) or ( is_weekend and cigars >= 40)):\n",
    "     return True;\n",
    "  else:\n",
    "    return False;\n",
    "    \n",
    "    \n"
   ]
  },
  {
   "cell_type": "code",
   "execution_count": null,
   "metadata": {},
   "outputs": [],
   "source": [
    "#Given 3 int values, a b c, return their sum. \n",
    "#However, if one of the values is the same as another of the values, it does not count towards the sum.\n",
    "def lone_sum(a, b, c):\n",
    "  if(a ==b and b==c):\n",
    "    return 0;\n",
    "  elif(a == b):\n",
    "    return c;\n",
    "  elif(a == c):\n",
    "    return b;\n",
    "  elif(b == c):\n",
    "    return a;\n",
    "  else:\n",
    "    return a+b+c;\n"
   ]
  },
  {
   "cell_type": "code",
   "execution_count": null,
   "metadata": {},
   "outputs": [],
   "source": [
    "#Given 3 int values, a b c, return their sum.\n",
    "#However, if one of the values is 13 then it does not count towards the sum and values to its right do not count.\n",
    "#So for example, if b is 13, then both b and c do not count.\n",
    "def lucky_sum(a, b, c):\n",
    "  if(a == 13):\n",
    "   return 0;\n",
    "  elif(b == 13):\n",
    "    return a;\n",
    "  elif(c == 13):\n",
    "    return a+b;\n",
    "  else:\n",
    "    return a+b+c;\n"
   ]
  },
  {
   "cell_type": "code",
   "execution_count": null,
   "metadata": {},
   "outputs": [],
   "source": []
  }
 ],
 "metadata": {
  "kernelspec": {
   "display_name": "Python 3",
   "language": "python",
   "name": "python3"
  },
  "language_info": {
   "codemirror_mode": {
    "name": "ipython",
    "version": 3
   },
   "file_extension": ".py",
   "mimetype": "text/x-python",
   "name": "python",
   "nbconvert_exporter": "python",
   "pygments_lexer": "ipython3",
   "version": "3.7.0"
  }
 },
 "nbformat": 4,
 "nbformat_minor": 2
}
