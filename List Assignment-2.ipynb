{
 "cells": [
  {
   "cell_type": "code",
   "execution_count": null,
   "metadata": {},
   "outputs": [],
   "source": [
    "#Return the number of even ints in the given array. Note: the % \"mod\" operator computes the remainder, e.g. 5 % 2 is 1.\n",
    "def count_evens(nums):\n",
    "  count = 0;\n",
    "  for i in nums:\n",
    "    if(i%2 == 0):\n",
    "      count = count + 1;\n",
    "  return count;    \n",
    "  \n"
   ]
  },
  {
   "cell_type": "code",
   "execution_count": 1,
   "metadata": {},
   "outputs": [
    {
     "data": {
      "text/plain": [
       "3"
      ]
     },
     "execution_count": 1,
     "metadata": {},
     "output_type": "execute_result"
    }
   ],
   "source": [
    "#Given an array length 1 or more of ints, return the difference between the largest and smallest values in the array.\n",
    "def big_diff(nums):\n",
    "  return max(nums) - min(nums);\n"
   ]
  },
  {
   "cell_type": "code",
   "execution_count": 2,
   "metadata": {},
   "outputs": [],
   "source": [
    "#Return the sum of the numbers in the array, returning 0 for an empty array. \n",
    "#Except the number 13 is very unlucky, so it does not count and numbers that come immediately after a 13 also do not count.\n",
    "def sum13(nums):\n",
    "  sum = 0;\n",
    "  skipNext = -1;\n",
    "  if(len(nums) == 0):\n",
    "    return 0;\n",
    "  else:\n",
    "    for i in range(len(nums)):\n",
    "      if(i == skipNext):\n",
    "        skipNext = -1;\n",
    "        continue;\n",
    "      elif(nums[i] == 13):\n",
    "        skipNext = i+1;\n",
    "      else:\n",
    "        sum = sum + nums[i]\n",
    "    return sum;\n"
   ]
  },
  {
   "cell_type": "code",
   "execution_count": null,
   "metadata": {},
   "outputs": [],
   "source": [
    "#Return the sum of the numbers in the array,\n",
    "#except ignore sections of numbers starting with a 6 and extending to the next 7 (every 6 will be followed by at least one 7).\n",
    "#Return 0 for no numbers.\n",
    "def sum67(nums):\n",
    "  sum = 0;\n",
    "  skipStart = False;\n",
    "  if(len(nums) == 0):\n",
    "    return 0;\n",
    "  else:\n",
    "    for i in range(len(nums)):\n",
    "      if(nums[i] == 6):\n",
    "        skipStart = True;\n",
    "        continue;\n",
    "      elif(skipStart and nums[i] != 7):\n",
    "        continue;\n",
    "      elif(skipStart and nums[i] == 7):\n",
    "        skipStart = False;\n",
    "        continue;\n",
    "      else:\n",
    "        sum = sum + nums[i];\n",
    "    return sum;\n"
   ]
  },
  {
   "cell_type": "code",
   "execution_count": null,
   "metadata": {},
   "outputs": [],
   "source": [
    "#Given an array of ints, return True if the array contains a 2 next to a 2 somewhere.\n",
    "# has22([1, 2, 2]) → True\n",
    "# has22([1, 2, 1, 2]) → False\n",
    "def has22(nums):\n",
    "  output = False;\n",
    "  for i in range(len(nums)):\n",
    "    if(nums[i] == 2 and i+1 < len(nums) and nums[i+1] == 2):\n",
    "      output = True;\n",
    "      break;\n",
    "  return output;"
   ]
  }
 ],
 "metadata": {
  "kernelspec": {
   "display_name": "Python 3",
   "language": "python",
   "name": "python3"
  },
  "language_info": {
   "codemirror_mode": {
    "name": "ipython",
    "version": 3
   },
   "file_extension": ".py",
   "mimetype": "text/x-python",
   "name": "python",
   "nbconvert_exporter": "python",
   "pygments_lexer": "ipython3",
   "version": "3.7.0"
  }
 },
 "nbformat": 4,
 "nbformat_minor": 2
}
