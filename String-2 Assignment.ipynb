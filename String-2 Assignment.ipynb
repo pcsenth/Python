{
 "cells": [
  {
   "cell_type": "code",
   "execution_count": null,
   "metadata": {},
   "outputs": [],
   "source": [
    "#Given a string, return a string where for every char in the original, there are two chars.\n",
    "#double_char('The') → 'TThhee'\n",
    "def double_char(str):\n",
    "  newstr = \"\";\n",
    "  for i in range(len(str)):\n",
    "    newstr = newstr + str[i]*2;\n",
    "  return newstr;\n"
   ]
  },
  {
   "cell_type": "code",
   "execution_count": null,
   "metadata": {},
   "outputs": [],
   "source": [
    "#Return the number of times that the string \"hi\" appears anywhere in the given string.\n",
    "#count_hi('abc hi ho') → 1\n",
    "#count_hi('ABChi hi') → 2\n",
    "#count_hi('hihi') → 2\n",
    "def count_hi(str):\n",
    "  return str.count('hi')\n"
   ]
  },
  {
   "cell_type": "code",
   "execution_count": null,
   "metadata": {},
   "outputs": [],
   "source": [
    "#Return True if the string \"cat\" and \"dog\" appear the same number of times in the given string.\n",
    "def cat_dog(str):\n",
    "  if(str.count('cat') == str.count('dog')):\n",
    "    return True;\n",
    "  else:\n",
    "    return False;\n"
   ]
  },
  {
   "cell_type": "code",
   "execution_count": 2,
   "metadata": {},
   "outputs": [
    {
     "name": "stdout",
     "output_type": "stream",
     "text": [
      "0\n",
      "0\n",
      "2\n",
      "0\n",
      "0\n"
     ]
    }
   ],
   "source": [
    "#Return the number of times that the string \"code\" appears anywhere in the given string,\n",
    "#except we'll accept any letter for the 'd', so \"cope\" and \"cooe\" count.\n",
    "#count_code('aaacodebbb') → 1\n",
    "def count_code(str):\n",
    "  count = 0;\n",
    "  x = [];\n",
    "  for i in str.lower():\n",
    "    if(x.count(\"co\"+i+\"e\") == 0):\n",
    "       x.append(\"co\"+i+\"e\");\n",
    "  for i in x:\n",
    "    count = count + str.count(i);\n",
    "  return count;\n"
   ]
  },
  {
   "cell_type": "code",
   "execution_count": 6,
   "metadata": {},
   "outputs": [
    {
     "data": {
      "text/plain": [
       "True"
      ]
     },
     "execution_count": 6,
     "metadata": {},
     "output_type": "execute_result"
    }
   ],
   "source": [
    "#Given two strings, return True if either of the strings appears at the very end of the other string,\n",
    "#ignoring upper/lower case differences \n",
    "def end_other(a, b):\n",
    "  if(a.lower().endswith(b.lower()) or b.lower().endswith(a.lower()) ):\n",
    "    return True;\n",
    "  else:\n",
    "    return False;\n"
   ]
  },
  {
   "cell_type": "code",
   "execution_count": 25,
   "metadata": {},
   "outputs": [],
   "source": [
    "def xyz_there(str):\n",
    "  if(str.find('.') == -1 and str.find('xyz') >= 0):\n",
    "    return True;\n",
    "  else:\n",
    "    return False;\n"
   ]
  },
  {
   "cell_type": "code",
   "execution_count": null,
   "metadata": {},
   "outputs": [],
   "source": [
    "#Return True if the given string contains an appearance of \"xyz\"\n",
    "#where the xyz is not directly preceeded by a period (.). So \"xxyz\" counts but \"x.xyz\" does not.\n",
    "#xyz_there('abcxyz') → True\n",
    "\n",
    "def xyz_there(str):\n",
    "  strlist = str.split('.');\n",
    "  flag = False;\n",
    "  if(len(strlist) >= 2):\n",
    "    for i in range(len(strlist)):\n",
    "      if(i == 0 and strlist[i].find('xyz') >= 0):\n",
    "        flag = True;\n",
    "      elif( strlist[i].count('xyz') > 1 or (strlist[i].count('xyz') == 1 and strlist[i].find('xyz') > 0)):\n",
    "        flag = True;\n",
    "  elif(strlist[0].find('xyz') != -1):\n",
    "    flag = True;\n",
    "  return flag;\n",
    "  \n",
    "    "
   ]
  }
 ],
 "metadata": {
  "kernelspec": {
   "display_name": "Python 3",
   "language": "python",
   "name": "python3"
  },
  "language_info": {
   "codemirror_mode": {
    "name": "ipython",
    "version": 3
   },
   "file_extension": ".py",
   "mimetype": "text/x-python",
   "name": "python",
   "nbconvert_exporter": "python",
   "pygments_lexer": "ipython3",
   "version": "3.7.0"
  }
 },
 "nbformat": 4,
 "nbformat_minor": 2
}
